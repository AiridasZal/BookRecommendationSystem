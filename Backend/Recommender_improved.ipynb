{
  "cells": [
    {
      "cell_type": "code",
      "execution_count": null,
      "metadata": {
        "id": "apRE9bF4jSm0"
      },
      "outputs": [],
      "source": [
        "import json\n",
        "import re\n",
        "import string\n",
        "\n",
        "import numpy as np\n",
        "import pandas as pd\n",
        "from scipy.sparse import csr_matrix\n",
        "from sklearn.feature_extraction.text import TfidfVectorizer\n",
        "from sklearn.metrics.pairwise import cosine_similarity, linear_kernel\n",
        "from sklearn.neighbors import NearestNeighbors"
      ]
    },
    {
      "cell_type": "markdown",
      "metadata": {
        "id": "jcm5VRYOjSm2"
      },
      "source": [
        "## Data preprocessing"
      ]
    },
    {
      "cell_type": "code",
      "execution_count": null,
      "metadata": {
        "id": "1TiAftKGjSm4"
      },
      "outputs": [],
      "source": [
        "books_df = pd.read_csv('books_enriched.csv')\n",
        "user_ratings_df = pd.read_csv('ratings.csv')"
      ]
    },
    {
      "cell_type": "code",
      "execution_count": null,
      "metadata": {
        "colab": {
          "base_uri": "https://localhost:8080/",
          "height": 1000
        },
        "id": "vzPEku9djSm4",
        "outputId": "f28c1ada-e528-484d-db01-0d507a220bca"
      },
      "outputs": [],
      "source": [
        "print(f\"Number of books: {books_df.shape[0]}\")\n",
        "print(books_df.info())\n",
        "display(books_df.describe())\n",
        "print(books_df.isnull().sum())"
      ]
    },
    {
      "cell_type": "code",
      "execution_count": null,
      "metadata": {
        "colab": {
          "base_uri": "https://localhost:8080/"
        },
        "id": "epJEZixCjSm5",
        "outputId": "94248c02-0006-4fa1-f781-5f6969cf1b9d"
      },
      "outputs": [],
      "source": [
        "print(user_ratings_df.info())\n",
        "print(f\"\\nNumber of missing values:\\n{user_ratings_df.isnull().sum()}\")"
      ]
    },
    {
      "cell_type": "code",
      "execution_count": null,
      "metadata": {
        "id": "GJslyZHojSm6"
      },
      "outputs": [],
      "source": [
        "def format_author_names(authors_str):\n",
        "    try:\n",
        "        authors_list = json.loads(authors_str.replace(\"'\", '\"'))\n",
        "        return ', '.join(authors_list)\n",
        "    except json.JSONDecodeError:\n",
        "        return authors_str"
      ]
    },
    {
      "cell_type": "code",
      "execution_count": null,
      "metadata": {
        "id": "Nom3MJgRjSm6"
      },
      "outputs": [],
      "source": [
        "books_df.drop(columns=['Unnamed: 0', 'index'], inplace=True)\n",
        "\n",
        "books_df['description'] = books_df['description'].fillna('')\n",
        "books_df['isbn'] = books_df['isbn'].fillna('Unknown')\n",
        "books_df['isbn13'] = books_df['isbn13'].fillna(0).astype(int)\n",
        "books_df['original_publication_year'] = books_df['original_publication_year'].fillna(0).astype(int)\n",
        "books_df['original_title'] = books_df['original_title'].fillna('')\n",
        "books_df['pages'] = books_df['pages'].fillna(0).astype(int)\n",
        "books_df['authors'] = books_df['authors'].apply(format_author_names)\n",
        "books_df['title'] = books_df['title'].str.replace(r\"\\s+\", \" \", regex=True)"
      ]
    },
    {
      "cell_type": "code",
      "execution_count": null,
      "metadata": {
        "id": "32ubxuvGjSm6"
      },
      "outputs": [],
      "source": [
        "def normalize_text(text):\n",
        "    text = text.lower()\n",
        "    text = text.translate(str.maketrans('', '', string.punctuation))\n",
        "    return text\n",
        "\n",
        "books_df['normalized_title'] = books_df['title'].apply(normalize_text)"
      ]
    },
    {
      "cell_type": "code",
      "execution_count": null,
      "metadata": {
        "id": "A7Aa767UjSm7"
      },
      "outputs": [],
      "source": [
        "tfidf_vectorizer = TfidfVectorizer(stop_words='english')\n",
        "tfidf_matrix_titles = tfidf_vectorizer.fit_transform(books_df['normalized_title'])"
      ]
    },
    {
      "cell_type": "code",
      "execution_count": null,
      "metadata": {
        "id": "azgLk7OMjSm7"
      },
      "outputs": [],
      "source": [
        "def search_similar_books_by_title(query, df=books_df, tfidf_matrix=tfidf_matrix_titles, top_n=12, similarity_threshold=0.1):\n",
        "    processed = re.sub(\"[^a-zA-Z0-9 ]\", \"\", query.lower())\n",
        "    query_vec = tfidf_vectorizer.transform([processed])\n",
        "\n",
        "    cosine_similarities = linear_kernel(query_vec, tfidf_matrix).flatten()\n",
        "    similar_indices = cosine_similarities.argsort()[::-1]\n",
        "    filtered_indices = [idx for idx in similar_indices if cosine_similarities[idx] >= similarity_threshold]\n",
        "    top_indices = filtered_indices[:top_n]\n",
        "    if not top_indices:\n",
        "        return pd.DataFrame()\n",
        "\n",
        "    result_df = df.iloc[top_indices]\n",
        "    result_df = result_df[['book_id', 'title', 'authors', 'average_rating', 'ratings_count', 'image_url', 'pages']]\n",
        "    return result_df"
      ]
    },
    {
      "cell_type": "code",
      "execution_count": null,
      "metadata": {
        "colab": {
          "base_uri": "https://localhost:8080/",
          "height": 300
        },
        "id": "qeOr9S0YjSm7",
        "outputId": "34ddf690-dc0f-42c1-f0b3-a305694e4c42"
      },
      "outputs": [],
      "source": [
        "similar_books = search_similar_books_by_title(\"1984\")\n",
        "display(similar_books)"
      ]
    },
    {
      "cell_type": "markdown",
      "metadata": {
        "id": "rE2HR7KtjSm8"
      },
      "source": [
        "## Collaborative filtering recommendation system using a k-NN model"
      ]
    },
    {
      "cell_type": "code",
      "execution_count": null,
      "metadata": {
        "colab": {
          "base_uri": "https://localhost:8080/",
          "height": 75
        },
        "id": "5u0Cc1f5jSm8",
        "outputId": "f43de4ec-60ef-4325-e3fa-14f24ef607f4"
      },
      "outputs": [],
      "source": [
        "# Creating a user-item matrix\n",
        "user_item_matrix = user_ratings_df.pivot(index='user_id', columns='book_id', values='rating').fillna(0)\n",
        "\n",
        "# Transform the matrix to a scipy sparse matrix\n",
        "user_item_matrix_sparse = csr_matrix(user_item_matrix.values)\n",
        "\n",
        "# Transpose the matrix so that books are rows\n",
        "user_item_matrix_sparse_T = user_item_matrix_sparse.transpose()\n",
        "\n",
        "# Train model\n",
        "model_knn = NearestNeighbors(metric='cosine', algorithm='brute', n_neighbors=20, n_jobs=-1)\n",
        "model_knn.fit(user_item_matrix_sparse_T)"
      ]
    },
    {
      "cell_type": "code",
      "execution_count": null,
      "metadata": {
        "id": "RBEYKwrtjSm8"
      },
      "outputs": [],
      "source": [
        "book_id_to_idx = {book_id: idx for idx, book_id in enumerate(user_item_matrix.columns)}\n",
        "\n",
        "def collaborative_recommendations(book_id, top_n=10):\n",
        "    if book_id not in book_id_to_idx:\n",
        "        return pd.DataFrame()\n",
        "    book_idx = book_id_to_idx[book_id]\n",
        "\n",
        "    distances, indices = model_knn.kneighbors(user_item_matrix_sparse_T[book_idx].reshape(1, -1), n_neighbors=top_n+1)\n",
        "\n",
        "    book_indices = [user_item_matrix.columns[i] for i in indices.flatten()[1:]]\n",
        "\n",
        "    return books_df[books_df['book_id'].isin(book_indices)]"
      ]
    },
    {
      "cell_type": "markdown",
      "metadata": {
        "id": "un6w4SUqjSm9"
      },
      "source": [
        "## Content-based recommendation system using TF-IDF"
      ]
    },
    {
      "cell_type": "code",
      "execution_count": null,
      "metadata": {},
      "outputs": [],
      "source": [
        "books_df['content'] = (pd.Series(books_df[['authors', 'title', 'genres', 'description']]\n",
        "                                  .fillna('')\n",
        "                                  .values.tolist()\n",
        "                                  ).str.join(' '))\n",
        "\n",
        "tf_content = TfidfVectorizer(analyzer='word', ngram_range=(1, 2), min_df=0., stop_words='english')\n",
        "tfidf_matrix = tf_content.fit_transform(books_df['content'])\n",
        "cosine_sim = linear_kernel(tfidf_matrix, tfidf_matrix)"
      ]
    },
    {
      "cell_type": "code",
      "execution_count": null,
      "metadata": {},
      "outputs": [],
      "source": [
        "def content_based_recommendations(book_id, top_n=10, cosine_sim=cosine_sim, df=books_df):\n",
        "    if book_id not in df['book_id'].values:\n",
        "        return pd.DataFrame()\n",
        "\n",
        "    book_id_to_index = pd.Series(df.index, index=df['book_id'])\n",
        "    \n",
        "    idx = book_id_to_index[book_id]\n",
        "    sim_scores = list(enumerate(cosine_sim[idx]))\n",
        "    sim_scores = sorted(sim_scores, key=lambda x: x[1], reverse=True)\n",
        "\n",
        "    top_n = min(top_n, len(sim_scores) - 1)\n",
        "    sim_scores = sim_scores[1:top_n+1]\n",
        "\n",
        "    book_indices = [i[0] for i in sim_scores]\n",
        "\n",
        "    return df.iloc[book_indices]"
      ]
    },
    {
      "cell_type": "code",
      "execution_count": 29,
      "metadata": {
        "id": "GsjWUM_8U5GE"
      },
      "outputs": [],
      "source": [
        "def improved_recommendation(book_id, top_n=10, cosine_sim=cosine_sim, df=books_df):\n",
        "    if book_id not in df['book_id'].values:\n",
        "        return pd.DataFrame()\n",
        "\n",
        "    book_id_to_index = pd.Series(df.index, index=df['book_id'])\n",
        "    \n",
        "    idx = book_id_to_index[book_id]\n",
        "\n",
        "    sim_scores = list(enumerate(cosine_sim[idx]))\n",
        "    sim_scores = sorted(sim_scores, key=lambda x: x[1], reverse=True)\n",
        "\n",
        "    top_n = min(top_n, len(sim_scores) - 1)\n",
        "    sim_scores = sim_scores[1:top_n+1]\n",
        "    \n",
        "    book_indices = [i[0] for i in sim_scores]\n",
        "    books_subset = df.iloc[book_indices][['book_id', 'title', 'authors', 'average_rating', 'ratings_count']]\n",
        "\n",
        "    v = books_subset['ratings_count']\n",
        "    m = books_subset['ratings_count'].quantile(0.75)\n",
        "    R = books_subset['average_rating']\n",
        "    C = books_subset['average_rating'].median()\n",
        "    books_subset['new_score'] = (v / (v + m) * R) + (m / (m + v) * C)\n",
        "\n",
        "    high_rating = books_subset[books_subset['ratings_count'] >= m]\n",
        "    high_rating = high_rating.sort_values('new_score', ascending=False)\n",
        "\n",
        "    return df.loc[high_rating.index]\n"
      ]
    },
    {
      "cell_type": "code",
      "execution_count": 30,
      "metadata": {
        "colab": {
          "base_uri": "https://localhost:8080/",
          "height": 1000
        },
        "id": "KsuQPbgkU8Zu",
        "outputId": "2cc0a268-2eb0-4d44-fdf5-89afe1249434"
      },
      "outputs": [
        {
          "data": {
            "text/html": [
              "<div>\n",
              "<style scoped>\n",
              "    .dataframe tbody tr th:only-of-type {\n",
              "        vertical-align: middle;\n",
              "    }\n",
              "\n",
              "    .dataframe tbody tr th {\n",
              "        vertical-align: top;\n",
              "    }\n",
              "\n",
              "    .dataframe thead th {\n",
              "        text-align: right;\n",
              "    }\n",
              "</style>\n",
              "<table border=\"1\" class=\"dataframe\">\n",
              "  <thead>\n",
              "    <tr style=\"text-align: right;\">\n",
              "      <th></th>\n",
              "      <th>authors</th>\n",
              "      <th>average_rating</th>\n",
              "      <th>best_book_id</th>\n",
              "      <th>book_id</th>\n",
              "      <th>books_count</th>\n",
              "      <th>description</th>\n",
              "      <th>genres</th>\n",
              "      <th>goodreads_book_id</th>\n",
              "      <th>image_url</th>\n",
              "      <th>isbn</th>\n",
              "      <th>...</th>\n",
              "      <th>ratings_5</th>\n",
              "      <th>ratings_count</th>\n",
              "      <th>small_image_url</th>\n",
              "      <th>title</th>\n",
              "      <th>work_id</th>\n",
              "      <th>work_ratings_count</th>\n",
              "      <th>work_text_reviews_count</th>\n",
              "      <th>authors_2</th>\n",
              "      <th>normalized_title</th>\n",
              "      <th>content</th>\n",
              "    </tr>\n",
              "  </thead>\n",
              "  <tbody>\n",
              "    <tr>\n",
              "      <th>795</th>\n",
              "      <td>George Orwell, Christopher Hitchens</td>\n",
              "      <td>4.26</td>\n",
              "      <td>5472</td>\n",
              "      <td>846</td>\n",
              "      <td>51</td>\n",
              "      <td>This edition features George Orwell's best kno...</td>\n",
              "      <td>['classics', 'fiction', 'science-fiction', 'fa...</td>\n",
              "      <td>5472</td>\n",
              "      <td>https://images.gr-assets.com/books/1327959366m...</td>\n",
              "      <td>151010269</td>\n",
              "      <td>...</td>\n",
              "      <td>57179</td>\n",
              "      <td>116197</td>\n",
              "      <td>https://images.gr-assets.com/books/1327959366s...</td>\n",
              "      <td>Animal Farm / 1984</td>\n",
              "      <td>2966408</td>\n",
              "      <td>118761</td>\n",
              "      <td>1293</td>\n",
              "      <td>['George Orwell', 'Christopher Hitchens']</td>\n",
              "      <td>animal farm  1984</td>\n",
              "      <td>George Orwell, Christopher Hitchens Animal Far...</td>\n",
              "    </tr>\n",
              "    <tr>\n",
              "      <th>604</th>\n",
              "      <td>Haruki Murakami, Jay Rubin, Philip Gabriel</td>\n",
              "      <td>3.89</td>\n",
              "      <td>10357575</td>\n",
              "      <td>649</td>\n",
              "      <td>107</td>\n",
              "      <td>The year is 1984 and the city is Tokyo.A young...</td>\n",
              "      <td>['fiction', 'fantasy', 'science-fiction', 'con...</td>\n",
              "      <td>10357575</td>\n",
              "      <td>https://images.gr-assets.com/books/1483103331m...</td>\n",
              "      <td>307593312</td>\n",
              "      <td>...</td>\n",
              "      <td>44559</td>\n",
              "      <td>125195</td>\n",
              "      <td>https://images.gr-assets.com/books/1483103331s...</td>\n",
              "      <td>1Q84</td>\n",
              "      <td>18160093</td>\n",
              "      <td>138691</td>\n",
              "      <td>13779</td>\n",
              "      <td>['Haruki Murakami', 'Jay Rubin', 'Philip Gabri...</td>\n",
              "      <td>1q84</td>\n",
              "      <td>Haruki Murakami, Jay Rubin, Philip Gabriel 1Q8...</td>\n",
              "    </tr>\n",
              "    <tr>\n",
              "      <th>8168</th>\n",
              "      <td>[George Orwell, Boris Grabnar, Celâl Üster, Ce...</td>\n",
              "      <td>3.87</td>\n",
              "      <td>7613</td>\n",
              "      <td>14</td>\n",
              "      <td>896</td>\n",
              "      <td>“All animals are equal, but some animals are m...</td>\n",
              "      <td>['classics', 'fiction', 'fantasy', 'science-fi...</td>\n",
              "      <td>7613</td>\n",
              "      <td>https://images.gr-assets.com/books/1424037542m...</td>\n",
              "      <td>452284244</td>\n",
              "      <td>...</td>\n",
              "      <td>648912</td>\n",
              "      <td>1881700</td>\n",
              "      <td>https://images.gr-assets.com/books/1424037542s...</td>\n",
              "      <td>Animal Farm</td>\n",
              "      <td>2207778</td>\n",
              "      <td>1982987</td>\n",
              "      <td>35472</td>\n",
              "      <td>['[George Orwell', 'Boris Grabnar', 'Celâl Üst...</td>\n",
              "      <td>animal farm</td>\n",
              "      <td>[George Orwell, Boris Grabnar, Celâl Üster, Ce...</td>\n",
              "    </tr>\n",
              "  </tbody>\n",
              "</table>\n",
              "<p>3 rows × 30 columns</p>\n",
              "</div>"
            ],
            "text/plain": [
              "                                                authors  average_rating  \\\n",
              "795                 George Orwell, Christopher Hitchens            4.26   \n",
              "604          Haruki Murakami, Jay Rubin, Philip Gabriel            3.89   \n",
              "8168  [George Orwell, Boris Grabnar, Celâl Üster, Ce...            3.87   \n",
              "\n",
              "      best_book_id  book_id  books_count  \\\n",
              "795           5472      846           51   \n",
              "604       10357575      649          107   \n",
              "8168          7613       14          896   \n",
              "\n",
              "                                            description  \\\n",
              "795   This edition features George Orwell's best kno...   \n",
              "604   The year is 1984 and the city is Tokyo.A young...   \n",
              "8168  “All animals are equal, but some animals are m...   \n",
              "\n",
              "                                                 genres  goodreads_book_id  \\\n",
              "795   ['classics', 'fiction', 'science-fiction', 'fa...               5472   \n",
              "604   ['fiction', 'fantasy', 'science-fiction', 'con...           10357575   \n",
              "8168  ['classics', 'fiction', 'fantasy', 'science-fi...               7613   \n",
              "\n",
              "                                              image_url       isbn  ...  \\\n",
              "795   https://images.gr-assets.com/books/1327959366m...  151010269  ...   \n",
              "604   https://images.gr-assets.com/books/1483103331m...  307593312  ...   \n",
              "8168  https://images.gr-assets.com/books/1424037542m...  452284244  ...   \n",
              "\n",
              "      ratings_5 ratings_count  \\\n",
              "795       57179        116197   \n",
              "604       44559        125195   \n",
              "8168     648912       1881700   \n",
              "\n",
              "                                        small_image_url               title  \\\n",
              "795   https://images.gr-assets.com/books/1327959366s...  Animal Farm / 1984   \n",
              "604   https://images.gr-assets.com/books/1483103331s...                1Q84   \n",
              "8168  https://images.gr-assets.com/books/1424037542s...         Animal Farm   \n",
              "\n",
              "       work_id work_ratings_count  work_text_reviews_count  \\\n",
              "795    2966408             118761                     1293   \n",
              "604   18160093             138691                    13779   \n",
              "8168   2207778            1982987                    35472   \n",
              "\n",
              "                                              authors_2   normalized_title  \\\n",
              "795           ['George Orwell', 'Christopher Hitchens']  animal farm  1984   \n",
              "604   ['Haruki Murakami', 'Jay Rubin', 'Philip Gabri...               1q84   \n",
              "8168  ['[George Orwell', 'Boris Grabnar', 'Celâl Üst...        animal farm   \n",
              "\n",
              "                                                content  \n",
              "795   George Orwell, Christopher Hitchens Animal Far...  \n",
              "604   Haruki Murakami, Jay Rubin, Philip Gabriel 1Q8...  \n",
              "8168  [George Orwell, Boris Grabnar, Celâl Üster, Ce...  \n",
              "\n",
              "[3 rows x 30 columns]"
            ]
          },
          "execution_count": 30,
          "metadata": {},
          "output_type": "execute_result"
        }
      ],
      "source": [
        "improved_recommendation(13)"
      ]
    },
    {
      "cell_type": "markdown",
      "metadata": {
        "id": "zHa63zRajSm9"
      },
      "source": [
        "## Hybrid model, combining both systems"
      ]
    },
    {
      "cell_type": "code",
      "execution_count": null,
      "metadata": {
        "id": "_Xkb8VVRjSm9"
      },
      "outputs": [],
      "source": [
        "def hybrid_recommendations(book_id, top_n=10):\n",
        "    content_recommendations = improved_recommendation(book_id, top_n=top_n)\n",
        "    collab_recommendations = collaborative_recommendations(book_id, top_n=top_n)\n",
        "    hybrid_recommendations_df = pd.concat([content_recommendations, collab_recommendations]).drop_duplicates().head(top_n)\n",
        "    return hybrid_recommendations_df"
      ]
    },
    {
      "cell_type": "code",
      "execution_count": null,
      "metadata": {
        "colab": {
          "base_uri": "https://localhost:8080/",
          "height": 1000
        },
        "id": "VUkjSY__LDNg",
        "outputId": "04778f29-fba8-4eeb-e26a-9414b7ae9264"
      },
      "outputs": [],
      "source": [
        "recommended_books = hybrid_recommendations(book_id=13, top_n=20)\n",
        "recommended_books.shape[0]\n",
        "recommended_books"
      ]
    },
    {
      "cell_type": "markdown",
      "metadata": {
        "id": "2dYp7IZDjSm9"
      },
      "source": [
        "## Recommender query testing"
      ]
    },
    {
      "cell_type": "code",
      "execution_count": null,
      "metadata": {
        "colab": {
          "base_uri": "https://localhost:8080/"
        },
        "id": "uHxyekM5jSm9",
        "outputId": "e5605148-63e3-4757-9ee4-b9d5b77b9842"
      },
      "outputs": [],
      "source": [
        "# recommended_books = hybrid_recommendations(book_id=6, top_n=5)\n",
        "recommended_books = content_based_recommendations(book_id=13, top_n=5)\n",
        "json.loads(recommended_books[['book_id', 'title', 'authors', 'average_rating', 'ratings_count', 'image_url', 'description', 'genres']].to_json(orient='records'))"
      ]
    },
    {
      "cell_type": "code",
      "execution_count": null,
      "metadata": {
        "colab": {
          "base_uri": "https://localhost:8080/"
        },
        "id": "QHYoNdrFjSm-",
        "outputId": "7fffbab2-d340-457d-e364-f3f343fe74b2"
      },
      "outputs": [],
      "source": [
        "def get_recommendations_as_json(book_id, model_type='hybrid', top_n=20):\n",
        "    columns_to_include = ['book_id', 'title', 'authors', 'average_rating', 'ratings_count', 'image_url', 'pages']\n",
        "    if model_type == 'hybrid':\n",
        "        recommendations_df = hybrid_recommendations(book_id, top_n)\n",
        "    elif model_type == 'collaborative':\n",
        "        recommendations_df = collaborative_recommendations(book_id, top_n)\n",
        "    elif model_type == 'content':\n",
        "        recommendations_df = content_based_recommendations(book_id, top_n)\n",
        "    elif model_type == 'improved':\n",
        "        recommendations_df = improved_recommendation(book_id, top_n)\n",
        "    else:\n",
        "        return \"Invalid model type\"\n",
        "\n",
        "    recommendations_df = recommendations_df[columns_to_include]\n",
        "    # Convert DataFrame to JSON\n",
        "    recommendations_json = recommendations_df.to_json(orient='records')\n",
        "    return recommendations_json\n",
        "\n",
        "# Example usage\n",
        "json_output = get_recommendations_as_json(book_id=13, model_type='improved', top_n=10)\n",
        "json.loads(json_output)"
      ]
    }
  ],
  "metadata": {
    "colab": {
      "collapsed_sections": [
        "rE2HR7KtjSm8",
        "un6w4SUqjSm9"
      ],
      "provenance": []
    },
    "kernelspec": {
      "display_name": "Python 3",
      "language": "python",
      "name": "python3"
    },
    "language_info": {
      "codemirror_mode": {
        "name": "ipython",
        "version": 3
      },
      "file_extension": ".py",
      "mimetype": "text/x-python",
      "name": "python",
      "nbconvert_exporter": "python",
      "pygments_lexer": "ipython3",
      "version": "3.10.0"
    }
  },
  "nbformat": 4,
  "nbformat_minor": 0
}
